{
 "cells": [
  {
   "cell_type": "markdown",
   "id": "experimental-check",
   "metadata": {},
   "source": [
    "### DATA 558 - Homework 1 Coding Solutions\n",
    "#### Anushna Prakash\n",
    "#### April 8th, 2021"
   ]
  },
  {
   "cell_type": "code",
   "execution_count": 1,
   "id": "stuffed-election",
   "metadata": {},
   "outputs": [],
   "source": [
    "import pandas as pd\n",
    "import numpy as np"
   ]
  },
  {
   "cell_type": "code",
   "execution_count": 2,
   "id": "expressed-cleaner",
   "metadata": {},
   "outputs": [
    {
     "data": {
      "text/plain": [
       "Index(['species', 'island', 'bill_length_mm', 'bill_depth_mm',\n",
       "       'flipper_length_mm', 'body_mass_g', 'sex'],\n",
       "      dtype='object')"
      ]
     },
     "execution_count": 2,
     "metadata": {},
     "output_type": "execute_result"
    }
   ],
   "source": [
    "file = 'https://raw.githubusercontent.com/mwaskom/seaborn-data/master/penguins.csv'\n",
    "penguins = pd.read_csv(file, sep = ',', header = 0)\n",
    "penguins.columns"
   ]
  },
  {
   "cell_type": "markdown",
   "id": "current-irish",
   "metadata": {},
   "source": [
    "Reduce dataset to rows where desired feature columns are not null"
   ]
  },
  {
   "cell_type": "code",
   "execution_count": 3,
   "id": "stable-missouri",
   "metadata": {},
   "outputs": [
    {
     "name": "stdout",
     "output_type": "stream",
     "text": [
      "bill_length_mm       2\n",
      "bill_depth_mm        2\n",
      "flipper_length_mm    2\n",
      "body_mass_g          2\n",
      "dtype: int64\n"
     ]
    },
    {
     "data": {
      "text/plain": [
       "(342, 4)"
      ]
     },
     "execution_count": 3,
     "metadata": {},
     "output_type": "execute_result"
    }
   ],
   "source": [
    "# Clean up missing values. Removes 2 rows of data\n",
    "features = ['bill_length_mm', 'bill_depth_mm', 'flipper_length_mm', 'body_mass_g']\n",
    "print(penguins[features].isnull().sum(axis = 0))\n",
    "penguins_clean = penguins[features].dropna()\n",
    "penguins_clean.shape"
   ]
  },
  {
   "cell_type": "code",
   "execution_count": 4,
   "id": "polish-springer",
   "metadata": {},
   "outputs": [
    {
     "name": "stdout",
     "output_type": "stream",
     "text": [
      "(342, 3)\n",
      "(342,)\n"
     ]
    }
   ],
   "source": [
    "X = penguins_clean[['bill_length_mm', 'bill_depth_mm', 'flipper_length_mm']]\n",
    "y = penguins_clean['body_mass_g']\n",
    "print(X.shape)\n",
    "print(y.shape)"
   ]
  },
  {
   "cell_type": "code",
   "execution_count": 5,
   "id": "three-carry",
   "metadata": {},
   "outputs": [],
   "source": [
    "from sklearn.model_selection import train_test_split\n",
    "X_train, X_test, y_train, y_test = train_test_split(X, y, test_size = 0.2, random_state = 10)"
   ]
  },
  {
   "cell_type": "code",
   "execution_count": 6,
   "id": "normal-agreement",
   "metadata": {},
   "outputs": [
    {
     "data": {
      "text/plain": [
       "Ridge(alpha=1)"
      ]
     },
     "execution_count": 6,
     "metadata": {},
     "output_type": "execute_result"
    }
   ],
   "source": [
    "from sklearn.linear_model import Ridge\n",
    "penguin_ridge = Ridge(alpha = 1)\n",
    "penguin_ridge.fit(X_train, y_train)"
   ]
  },
  {
   "cell_type": "markdown",
   "id": "enormous-compilation",
   "metadata": {},
   "source": [
    "Compute Mean Squared Error for ridge regression predictions.\n",
    "\\begin{equation}\n",
    "MSE(\\hat{Y}, Y) = \\frac{1}{n} {||\\hat{Y} - Y||}^{2}_{2}\n",
    "\\end{equation}"
   ]
  },
  {
   "cell_type": "code",
   "execution_count": 7,
   "id": "indonesian-pharmacology",
   "metadata": {},
   "outputs": [],
   "source": [
    "def calc_mse(y_hat, y):\n",
    "    n = len(y_hat)\n",
    "    errors = np.square(y_hat - y).sum()\n",
    "    return(errors / n)"
   ]
  },
  {
   "cell_type": "code",
   "execution_count": 8,
   "id": "welsh-cheat",
   "metadata": {},
   "outputs": [
    {
     "data": {
      "text/plain": [
       "154610.82032308922"
      ]
     },
     "execution_count": 8,
     "metadata": {},
     "output_type": "execute_result"
    }
   ],
   "source": [
    "y_hat = penguin_ridge.predict(X_train)\n",
    "calc_mse(y_hat, y_train.to_numpy())"
   ]
  },
  {
   "cell_type": "markdown",
   "id": "green-redhead",
   "metadata": {},
   "source": [
    "Perform 5x2 validation to determine optimal $\\lambda$ value."
   ]
  },
  {
   "cell_type": "code",
   "execution_count": 32,
   "id": "injured-surgery",
   "metadata": {},
   "outputs": [],
   "source": [
    "def fivebytwo_validation_ridge(train_data, train_targets, lambda_vals):\n",
    "    \"\"\"\n",
    "        For each value of your hyperparameter, repeat the following procedure five times:\n",
    "        Shuffle the indices of the training data.\n",
    "        Split the training data evenly into two parts. Call these the \"train\" and \"validation\" sets.\n",
    "        Train the model using data from the \"train\" set.\n",
    "        Generate model predictions for the \"validation\" set and record the prediction accuracy.\n",
    "        Swap the role of the \"train\" and \"validation\" sets and repeat the training and prediction steps above.\n",
    "        Select the hyperparameter value with the best average prediction accuracy over all 10 trials.\n",
    "    \"\"\"\n",
    "    n = len(train_targets)\n",
    "    results = np.zeros((10, len(lambda_vals)))\n",
    "    \n",
    "    for j, k in enumerate(lambda_vals):\n",
    "        \n",
    "        for i in range(5):\n",
    "            # Shuffle the indices of training data\n",
    "            shuffle_i = np.random.choice(n, size = n, replace = False)\n",
    "            shuffled_data = train_data.iloc[shuffle_i, ]\n",
    "            shuffled_targets = train_targets[shuffle_i]\n",
    "            \n",
    "            # Split training data evenly into two parts: train and validation sets\n",
    "            split = int(np.floor(n / 2))\n",
    "            train = shuffled_data.iloc[split:, ]\n",
    "            validate = shuffled_data.iloc[:split, ]\n",
    "            train_tgts = shuffled_targets[split:]\n",
    "            validate_tgts = shuffled_targets[:split]\n",
    "            \n",
    "            # Train model using training set and generate predictions\n",
    "            ridge = Ridge(alpha = k).fit(train, train_tgts)\n",
    "            predictions = ridge.predict(validate)\n",
    "            \n",
    "            # Save MSE\n",
    "            results[2 * i, j] = calc_mse(predictions, validate_tgts)\n",
    "            \n",
    "            # Swap train and validation sets, and save MSE\n",
    "            ridge_swap = Ridge(alpha = k).fit(validate, validate_tgts)\n",
    "            predictions_swap = ridge_swap.predict(train)\n",
    "            results[(2 * i) + 1, j] = calc_mse(predictions_swap, train_tgts)\n",
    "    \n",
    "    return(results)"
   ]
  },
  {
   "cell_type": "code",
   "execution_count": 33,
   "id": "british-vision",
   "metadata": {},
   "outputs": [
    {
     "data": {
      "text/plain": [
       "array([[150399.54247645, 159492.38805068, 163105.07164885,\n",
       "        187729.84101301, 178828.82340856, 168728.30963847,\n",
       "        138443.80387112, 169642.91629454, 167967.08203143,\n",
       "        143268.15457986, 166371.58164315, 137157.48983478,\n",
       "        161861.54100964, 175454.45000245, 179991.2601779 ,\n",
       "        144035.71252704, 156279.08767117, 155500.87896037,\n",
       "        163672.58869182],\n",
       "       [160347.45889423, 153491.73749469, 153268.20093302,\n",
       "        135576.64257821, 132284.77696181, 154842.46081399,\n",
       "        180275.00720786, 166259.17124154, 155775.44847898,\n",
       "        180793.73755898, 152948.61110549, 175752.70920204,\n",
       "        179544.42484728, 138399.62186489, 147679.30164379,\n",
       "        177157.69476145, 159396.27407118, 174472.33550835,\n",
       "        234855.64110348],\n",
       "       [165004.41900958, 164595.3171095 , 170382.33997116,\n",
       "        158887.7790317 , 162861.24159781, 153059.82547829,\n",
       "        162458.25555607, 148155.18130954, 159917.43541378,\n",
       "        154295.4457177 , 178721.27822562, 177803.42645534,\n",
       "        148404.42452621, 180888.59046948, 185243.51531845,\n",
       "        166653.9967431 , 153569.34654454, 208252.62165368,\n",
       "        162810.79777393],\n",
       "       [158296.8484624 , 152356.3075282 , 151410.40365571,\n",
       "        174143.59804266, 182193.52193876, 165082.95824149,\n",
       "        154756.99117009, 164709.34467291, 165534.48262592,\n",
       "        162998.83747658, 170573.9395734 , 154172.91958075,\n",
       "        166538.62345357, 180617.82949969, 128816.06906835,\n",
       "        150619.59818213, 163436.94149471, 127406.34955689,\n",
       "        211326.31397953],\n",
       "       [167343.08369958, 143651.67018178, 168436.69045141,\n",
       "        162725.6082125 , 148786.39059257, 152776.69431546,\n",
       "        152343.01691098, 173064.69214296, 152483.37381124,\n",
       "        181896.20668613, 187779.08312143, 170190.83283607,\n",
       "        134484.98968176, 154636.49136051, 149374.25877179,\n",
       "        145279.12901678, 138494.25853765, 159494.05457186,\n",
       "        210981.06146691],\n",
       "       [146307.65306482, 202192.93400245, 146989.60791827,\n",
       "        158924.80582546, 168416.97216849, 157884.27205101,\n",
       "        167474.51579515, 149726.71416209, 169497.01791479,\n",
       "        150168.78240387, 141925.77545435, 145843.55055997,\n",
       "        180362.47558063, 170776.12879943, 161292.11631593,\n",
       "        169385.57171241, 190823.63543543, 170931.60022001,\n",
       "        167627.91959411],\n",
       "       [155137.1085735 , 180749.8580592 , 155749.16639214,\n",
       "        150621.4555945 , 193428.53626476, 177572.46378169,\n",
       "        154137.34613717, 160183.93706862, 162783.48548854,\n",
       "        133672.58221388, 174919.35325745, 119506.83665449,\n",
       "        175444.37442668, 149884.23742562, 151519.8529638 ,\n",
       "        159615.4558597 , 144612.94719113, 169094.40140967,\n",
       "        196518.69251996],\n",
       "       [166434.14898058, 177158.20576907, 163437.32850578,\n",
       "        169942.24727518, 164114.37000934, 137615.02482187,\n",
       "        158135.58289627, 162900.50524916, 156599.08691024,\n",
       "        181665.82578492, 150714.6707161 , 190441.63249737,\n",
       "        144766.68189534, 173094.23113219, 163898.76023888,\n",
       "        173732.59100083, 176795.09480533, 166173.75052417,\n",
       "        193213.81400363],\n",
       "       [164078.90071777, 170058.0197915 , 151437.4984155 ,\n",
       "        164065.72287852, 157848.498889  , 148328.8056995 ,\n",
       "        165253.23956438, 159754.23323925, 178783.01825017,\n",
       "        187380.36876341, 182701.71123443, 130071.92179272,\n",
       "        168121.67954561, 170991.24117148, 150803.54264074,\n",
       "        161543.25703551, 176401.43139402, 181748.01280939,\n",
       "        185422.08826476],\n",
       "       [182522.43984676, 158318.89243315, 169011.63186442,\n",
       "        174211.05567457, 152997.0476381 , 161381.90971981,\n",
       "        159932.46502567, 164727.18601461, 142210.93594041,\n",
       "        147999.69287666, 134115.40244116, 185786.94999289,\n",
       "        162286.99298182, 157563.39987722, 159960.4158195 ,\n",
       "        152516.63732199, 141318.86177632, 150343.44727998,\n",
       "        206648.37635117]])"
      ]
     },
     "execution_count": 33,
     "metadata": {},
     "output_type": "execute_result"
    }
   ],
   "source": [
    "lam_vals = np.logspace(-2, 4, 19)\n",
    "mse_results = fivebytwo_validation_ridge(X_train, y_train.to_numpy(), lam_vals)\n",
    "mse_results"
   ]
  },
  {
   "cell_type": "code",
   "execution_count": 54,
   "id": "social-socket",
   "metadata": {},
   "outputs": [
    {
     "data": {
      "image/png": "[encoded data removed]",
      "text/plain": [
       "<Figure size 432x288 with 1 Axes>"
      ]
     },
     "metadata": {
      "needs_background": "light"
     },
     "output_type": "display_data"
    }
   ],
   "source": [
    "import matplotlib.pyplot as plt\n",
    "# plot results\n",
    "plt.errorbar(lam_vals, mse_results.mean(axis = 0), mse_results.std(axis = 0) / np.sqrt(mse_results.shape[0]))\n",
    "plt.xlim([lam_vals[0] - 0.5, lam_vals[-1] + 0.5])\n",
    "plt.xlabel('Lambda value')\n",
    "plt.ylabel('MSE')\n",
    "plt.show()"
   ]
  },
  {
   "cell_type": "code",
   "execution_count": 77,
   "id": "considered-portal",
   "metadata": {},
   "outputs": [
    {
     "data": {
      "text/html": [
       "<div>\n",
       "<style scoped>\n",
       "    .dataframe tbody tr th:only-of-type {\n",
       "        vertical-align: middle;\n",
       "    }\n",
       "\n",
       "    .dataframe tbody tr th {\n",
       "        vertical-align: top;\n",
       "    }\n",
       "\n",
       "    .dataframe thead th {\n",
       "        text-align: right;\n",
       "    }\n",
       "</style>\n",
       "<table border=\"1\" class=\"dataframe\">\n",
       "  <thead>\n",
       "    <tr style=\"text-align: right;\">\n",
       "      <th></th>\n",
       "      <th>MSE</th>\n",
       "    </tr>\n",
       "  </thead>\n",
       "  <tbody>\n",
       "    <tr>\n",
       "      <th>0.464159</th>\n",
       "      <td>157727.272456</td>\n",
       "    </tr>\n",
       "    <tr>\n",
       "      <th>464.158883</th>\n",
       "      <td>157857.909296</td>\n",
       "    </tr>\n",
       "    <tr>\n",
       "      <th>46.415888</th>\n",
       "      <td>158672.826941</td>\n",
       "    </tr>\n",
       "    <tr>\n",
       "      <th>1.000000</th>\n",
       "      <td>159321.022413</td>\n",
       "    </tr>\n",
       "    <tr>\n",
       "      <th>0.046416</th>\n",
       "      <td>159322.793976</td>\n",
       "    </tr>\n",
       "    <tr>\n",
       "      <th>1000.000000</th>\n",
       "      <td>160053.964416</td>\n",
       "    </tr>\n",
       "    <tr>\n",
       "      <th>2154.434690</th>\n",
       "      <td>160112.787892</td>\n",
       "    </tr>\n",
       "    <tr>\n",
       "      <th>4.641589</th>\n",
       "      <td>161155.136687</td>\n",
       "    </tr>\n",
       "    <tr>\n",
       "      <th>0.010000</th>\n",
       "      <td>161587.160373</td>\n",
       "    </tr>\n",
       "    <tr>\n",
       "      <th>2.154435</th>\n",
       "      <td>161912.388140</td>\n",
       "    </tr>\n",
       "    <tr>\n",
       "      <th>100.000000</th>\n",
       "      <td>162181.620795</td>\n",
       "    </tr>\n",
       "    <tr>\n",
       "      <th>10.000000</th>\n",
       "      <td>162413.963406</td>\n",
       "    </tr>\n",
       "    <tr>\n",
       "      <th>0.100000</th>\n",
       "      <td>163682.875613</td>\n",
       "    </tr>\n",
       "    <tr>\n",
       "      <th>21.544347</th>\n",
       "      <td>164077.140677</td>\n",
       "    </tr>\n",
       "    <tr>\n",
       "      <th>0.215443</th>\n",
       "      <td>164176.017947</td>\n",
       "    </tr>\n",
       "    <tr>\n",
       "      <th>215.443469</th>\n",
       "      <td>165230.622160</td>\n",
       "    </tr>\n",
       "    <tr>\n",
       "      <th>0.021544</th>\n",
       "      <td>166206.533042</td>\n",
       "    </tr>\n",
       "    <tr>\n",
       "      <th>4641.588834</th>\n",
       "      <td>166341.745249</td>\n",
       "    </tr>\n",
       "    <tr>\n",
       "      <th>10000.000000</th>\n",
       "      <td>193307.729375</td>\n",
       "    </tr>\n",
       "  </tbody>\n",
       "</table>\n",
       "</div>"
      ],
      "text/plain": [
       "                        MSE\n",
       "0.464159      157727.272456\n",
       "464.158883    157857.909296\n",
       "46.415888     158672.826941\n",
       "1.000000      159321.022413\n",
       "0.046416      159322.793976\n",
       "1000.000000   160053.964416\n",
       "2154.434690   160112.787892\n",
       "4.641589      161155.136687\n",
       "0.010000      161587.160373\n",
       "2.154435      161912.388140\n",
       "100.000000    162181.620795\n",
       "10.000000     162413.963406\n",
       "0.100000      163682.875613\n",
       "21.544347     164077.140677\n",
       "0.215443      164176.017947\n",
       "215.443469    165230.622160\n",
       "0.021544      166206.533042\n",
       "4641.588834   166341.745249\n",
       "10000.000000  193307.729375"
      ]
     },
     "execution_count": 77,
     "metadata": {},
     "output_type": "execute_result"
    }
   ],
   "source": [
    "results = pd.DataFrame(mse_results.mean(axis = 0), lam_vals, columns = ['MSE'])\n",
    "results.sort_values(by = 'MSE', axis = 0, ascending = True)"
   ]
  },
  {
   "cell_type": "code",
   "execution_count": 79,
   "id": "religious-mambo",
   "metadata": {},
   "outputs": [
    {
     "data": {
      "text/html": [
       "<div>\n",
       "<style scoped>\n",
       "    .dataframe tbody tr th:only-of-type {\n",
       "        vertical-align: middle;\n",
       "    }\n",
       "\n",
       "    .dataframe tbody tr th {\n",
       "        vertical-align: top;\n",
       "    }\n",
       "\n",
       "    .dataframe thead th {\n",
       "        text-align: right;\n",
       "    }\n",
       "</style>\n",
       "<table border=\"1\" class=\"dataframe\">\n",
       "  <thead>\n",
       "    <tr style=\"text-align: right;\">\n",
       "      <th></th>\n",
       "      <th>MSE</th>\n",
       "    </tr>\n",
       "  </thead>\n",
       "  <tbody>\n",
       "    <tr>\n",
       "      <th>0.464159</th>\n",
       "      <td>157727.272456</td>\n",
       "    </tr>\n",
       "  </tbody>\n",
       "</table>\n",
       "</div>"
      ],
      "text/plain": [
       "                    MSE\n",
       "0.464159  157727.272456"
      ]
     },
     "execution_count": 79,
     "metadata": {},
     "output_type": "execute_result"
    }
   ],
   "source": []
  }
 ],
 "metadata": {
  "kernelspec": {
   "display_name": "Python [conda env:DATA558] *",
   "language": "python",
   "name": "conda-env-DATA558-py"
  },
  "language_info": {
   "codemirror_mode": {
    "name": "ipython",
    "version": 3
   },
   "file_extension": ".py",
   "mimetype": "text/x-python",
   "name": "python",
   "nbconvert_exporter": "python",
   "pygments_lexer": "ipython3",
   "version": "3.7.10"
  }
 },
 "nbformat": 4,
 "nbformat_minor": 5
}
