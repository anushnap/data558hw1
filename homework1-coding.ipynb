{
 "cells": [
  {
   "cell_type": "markdown",
   "id": "experimental-check",
   "metadata": {},
   "source": [
    "### DATA 558 - Homework 1 Coding Solutions\n",
    "#### Anushna Prakash\n",
    "#### April 8th, 2021"
   ]
  },
  {
   "cell_type": "code",
   "execution_count": 1,
   "id": "stuffed-election",
   "metadata": {},
   "outputs": [],
   "source": [
    "import pandas as pd\n",
    "import numpy as np"
   ]
  },
  {
   "cell_type": "code",
   "execution_count": 2,
   "id": "expressed-cleaner",
   "metadata": {},
   "outputs": [
    {
     "data": {
      "text/plain": [
       "Index(['species', 'island', 'bill_length_mm', 'bill_depth_mm',\n",
       "       'flipper_length_mm', 'body_mass_g', 'sex'],\n",
       "      dtype='object')"
      ]
     },
     "execution_count": 2,
     "metadata": {},
     "output_type": "execute_result"
    }
   ],
   "source": [
    "file = 'https://raw.githubusercontent.com/mwaskom/seaborn-data/master/penguins.csv'\n",
    "penguins = pd.read_csv(file, sep = ',', header = 0)\n",
    "penguins.columns"
   ]
  },
  {
   "cell_type": "markdown",
   "id": "current-irish",
   "metadata": {},
   "source": [
    "Reduce dataset to rows where desired feature columns are not null"
   ]
  },
  {
   "cell_type": "code",
   "execution_count": 3,
   "id": "stable-missouri",
   "metadata": {},
   "outputs": [
    {
     "name": "stdout",
     "output_type": "stream",
     "text": [
      "bill_length_mm       2\n",
      "bill_depth_mm        2\n",
      "flipper_length_mm    2\n",
      "body_mass_g          2\n",
      "dtype: int64\n"
     ]
    },
    {
     "data": {
      "text/plain": [
       "(342, 4)"
      ]
     },
     "execution_count": 3,
     "metadata": {},
     "output_type": "execute_result"
    }
   ],
   "source": [
    "# Clean up missing values. Removes 2 rows of data\n",
    "features = ['bill_length_mm', 'bill_depth_mm', 'flipper_length_mm', 'body_mass_g']\n",
    "print(penguins[features].isnull().sum(axis = 0))\n",
    "penguins_clean = penguins[features].dropna()\n",
    "penguins_clean.shape"
   ]
  },
  {
   "cell_type": "code",
   "execution_count": 4,
   "id": "polish-springer",
   "metadata": {},
   "outputs": [
    {
     "name": "stdout",
     "output_type": "stream",
     "text": [
      "(342, 3)\n",
      "(342,)\n"
     ]
    }
   ],
   "source": [
    "X = penguins_clean[['bill_length_mm', 'bill_depth_mm', 'flipper_length_mm']]\n",
    "y = penguins_clean['body_mass_g']\n",
    "print(X.shape)\n",
    "print(y.shape)"
   ]
  },
  {
   "cell_type": "markdown",
   "id": "cordless-gates",
   "metadata": {},
   "source": [
    "Split data 80/20 for train and test sets respectively"
   ]
  },
  {
   "cell_type": "code",
   "execution_count": 5,
   "id": "three-carry",
   "metadata": {},
   "outputs": [],
   "source": [
    "from sklearn.model_selection import train_test_split\n",
    "X_train, X_test, y_train, y_test = train_test_split(X, y, test_size = 0.2, random_state = 10)"
   ]
  },
  {
   "cell_type": "markdown",
   "id": "defensive-conflict",
   "metadata": {},
   "source": [
    "Fit a ridge regression on the training data with paramater $\\lambda = 1$ (called alpha in the sklearn parameter)."
   ]
  },
  {
   "cell_type": "code",
   "execution_count": 6,
   "id": "normal-agreement",
   "metadata": {},
   "outputs": [
    {
     "data": {
      "text/plain": [
       "Ridge(alpha=1)"
      ]
     },
     "execution_count": 6,
     "metadata": {},
     "output_type": "execute_result"
    }
   ],
   "source": [
    "from sklearn.linear_model import Ridge\n",
    "penguin_ridge = Ridge(alpha = 1)\n",
    "penguin_ridge.fit(X_train, y_train)"
   ]
  },
  {
   "cell_type": "markdown",
   "id": "enormous-compilation",
   "metadata": {},
   "source": [
    "Compute Mean Squared Error for ridge regression predictions.\n",
    "\\begin{equation}\n",
    "MSE(\\hat{Y}, Y) = \\frac{1}{n} {||\\hat{Y} - Y||}^{2}_{2}\n",
    "\\end{equation}"
   ]
  },
  {
   "cell_type": "code",
   "execution_count": 7,
   "id": "indonesian-pharmacology",
   "metadata": {},
   "outputs": [],
   "source": [
    "def calc_mse(y_hat, y):\n",
    "    n = len(y_hat)\n",
    "    errors = np.square(y_hat - y).sum()\n",
    "    return(errors / n)"
   ]
  },
  {
   "cell_type": "markdown",
   "id": "excess-pepper",
   "metadata": {},
   "source": [
    "Calculate the MSE of the training set"
   ]
  },
  {
   "cell_type": "code",
   "execution_count": 8,
   "id": "welsh-cheat",
   "metadata": {},
   "outputs": [
    {
     "data": {
      "text/plain": [
       "154610.82032308922"
      ]
     },
     "execution_count": 8,
     "metadata": {},
     "output_type": "execute_result"
    }
   ],
   "source": [
    "y_hat = penguin_ridge.predict(X_train)\n",
    "calc_mse(y_hat, y_train.to_numpy())"
   ]
  },
  {
   "cell_type": "markdown",
   "id": "green-redhead",
   "metadata": {},
   "source": [
    "Perform 5x2 validation to determine optimal $\\lambda$ value."
   ]
  },
  {
   "cell_type": "code",
   "execution_count": 9,
   "id": "injured-surgery",
   "metadata": {},
   "outputs": [],
   "source": [
    "def fivebytwo_validation_ridge(train_data, train_targets, lambda_vals):\n",
    "    \"\"\"\n",
    "        For each value of your hyperparameter, repeat the following procedure five times:\n",
    "        Shuffle the indices of the training data.\n",
    "        Split the training data evenly into two parts. Call these the \"train\" and \"validation\" sets.\n",
    "        Train the model using data from the \"train\" set.\n",
    "        Generate model predictions for the \"validation\" set and record the prediction accuracy.\n",
    "        Swap the role of the \"train\" and \"validation\" sets and repeat the training and prediction steps above.\n",
    "        Select the hyperparameter value with the best average prediction accuracy over all 10 trials.\n",
    "    \"\"\"\n",
    "    n = len(train_targets)\n",
    "    results = np.zeros((10, len(lambda_vals)))\n",
    "    \n",
    "    for j, k in enumerate(lambda_vals):\n",
    "        \n",
    "        for i in range(5):\n",
    "            # Shuffle the indices of training data\n",
    "            shuffle_i = np.random.choice(n, size = n, replace = False)\n",
    "            shuffled_data = train_data.iloc[shuffle_i, ]\n",
    "            shuffled_targets = train_targets[shuffle_i]\n",
    "            \n",
    "            # Split training data evenly into two parts: train and validation sets\n",
    "            split = int(np.floor(n / 2))\n",
    "            train = shuffled_data.iloc[split:, ]\n",
    "            validate = shuffled_data.iloc[:split, ]\n",
    "            train_tgts = shuffled_targets[split:]\n",
    "            validate_tgts = shuffled_targets[:split]\n",
    "            \n",
    "            # Train model using training set and generate predictions\n",
    "            ridge = Ridge(alpha = k).fit(train, train_tgts)\n",
    "            predictions = ridge.predict(validate)\n",
    "            \n",
    "            # Save MSE\n",
    "            results[2 * i, j] = calc_mse(predictions, validate_tgts)\n",
    "            \n",
    "            # Swap train and validation sets, and save MSE\n",
    "            ridge_swap = Ridge(alpha = k).fit(validate, validate_tgts)\n",
    "            predictions_swap = ridge_swap.predict(train)\n",
    "            results[(2 * i) + 1, j] = calc_mse(predictions_swap, train_tgts)\n",
    "    \n",
    "    return(results)"
   ]
  },
  {
   "cell_type": "markdown",
   "id": "solid-terminology",
   "metadata": {},
   "source": [
    "Run 5x2 validation on the ridge regression model testing parameter $\\lambda$ with various values.\n",
    "Results are plotted."
   ]
  },
  {
   "cell_type": "code",
   "execution_count": 10,
   "id": "british-vision",
   "metadata": {},
   "outputs": [
    {
     "data": {
      "image/png": "[encoded data removed]",
      "text/plain": [
       "<Figure size 432x288 with 1 Axes>"
      ]
     },
     "metadata": {
      "needs_background": "light"
     },
     "output_type": "display_data"
    }
   ],
   "source": [
    "lam_vals = np.logspace(-2, 4, 19)\n",
    "mse_results = fivebytwo_validation_ridge(X_train, y_train.to_numpy(), lam_vals)\n",
    "\n",
    "import matplotlib.pyplot as plt\n",
    "# plot results\n",
    "plt.errorbar(lam_vals, mse_results.mean(axis = 0), mse_results.std(axis = 0) / np.sqrt(mse_results.shape[0]))\n",
    "plt.xlim([lam_vals[0] - 0.5, lam_vals[-1] + 0.5])\n",
    "plt.xlabel('Lambda value')\n",
    "plt.ylabel('MSE')\n",
    "plt.show()"
   ]
  },
  {
   "cell_type": "markdown",
   "id": "dried-above",
   "metadata": {},
   "source": [
    "Results of 5x2 validation are printed below in ascending order of MSE, with $\\lambda$ values as the index."
   ]
  },
  {
   "cell_type": "code",
   "execution_count": 11,
   "id": "considered-portal",
   "metadata": {},
   "outputs": [
    {
     "data": {
      "text/html": [
       "<div>\n",
       "<style scoped>\n",
       "    .dataframe tbody tr th:only-of-type {\n",
       "        vertical-align: middle;\n",
       "    }\n",
       "\n",
       "    .dataframe tbody tr th {\n",
       "        vertical-align: top;\n",
       "    }\n",
       "\n",
       "    .dataframe thead th {\n",
       "        text-align: right;\n",
       "    }\n",
       "</style>\n",
       "<table border=\"1\" class=\"dataframe\">\n",
       "  <thead>\n",
       "    <tr style=\"text-align: right;\">\n",
       "      <th></th>\n",
       "      <th>MSE</th>\n",
       "    </tr>\n",
       "  </thead>\n",
       "  <tbody>\n",
       "    <tr>\n",
       "      <th>100.000000</th>\n",
       "      <td>158220.630403</td>\n",
       "    </tr>\n",
       "    <tr>\n",
       "      <th>10.000000</th>\n",
       "      <td>159407.810427</td>\n",
       "    </tr>\n",
       "    <tr>\n",
       "      <th>0.010000</th>\n",
       "      <td>159684.432715</td>\n",
       "    </tr>\n",
       "    <tr>\n",
       "      <th>1000.000000</th>\n",
       "      <td>159703.537813</td>\n",
       "    </tr>\n",
       "    <tr>\n",
       "      <th>2154.434690</th>\n",
       "      <td>159767.167436</td>\n",
       "    </tr>\n",
       "    <tr>\n",
       "      <th>0.464159</th>\n",
       "      <td>159980.893090</td>\n",
       "    </tr>\n",
       "    <tr>\n",
       "      <th>0.021544</th>\n",
       "      <td>160251.578633</td>\n",
       "    </tr>\n",
       "    <tr>\n",
       "      <th>2.154435</th>\n",
       "      <td>160633.222369</td>\n",
       "    </tr>\n",
       "    <tr>\n",
       "      <th>0.046416</th>\n",
       "      <td>160679.179702</td>\n",
       "    </tr>\n",
       "    <tr>\n",
       "      <th>46.415888</th>\n",
       "      <td>160988.948608</td>\n",
       "    </tr>\n",
       "    <tr>\n",
       "      <th>464.158883</th>\n",
       "      <td>161162.164301</td>\n",
       "    </tr>\n",
       "    <tr>\n",
       "      <th>0.100000</th>\n",
       "      <td>161598.811619</td>\n",
       "    </tr>\n",
       "    <tr>\n",
       "      <th>0.215443</th>\n",
       "      <td>161929.862245</td>\n",
       "    </tr>\n",
       "    <tr>\n",
       "      <th>1.000000</th>\n",
       "      <td>162004.151841</td>\n",
       "    </tr>\n",
       "    <tr>\n",
       "      <th>21.544347</th>\n",
       "      <td>162091.459693</td>\n",
       "    </tr>\n",
       "    <tr>\n",
       "      <th>215.443469</th>\n",
       "      <td>164423.664083</td>\n",
       "    </tr>\n",
       "    <tr>\n",
       "      <th>4.641589</th>\n",
       "      <td>165763.069917</td>\n",
       "    </tr>\n",
       "    <tr>\n",
       "      <th>4641.588834</th>\n",
       "      <td>167781.150457</td>\n",
       "    </tr>\n",
       "    <tr>\n",
       "      <th>10000.000000</th>\n",
       "      <td>191237.998506</td>\n",
       "    </tr>\n",
       "  </tbody>\n",
       "</table>\n",
       "</div>"
      ],
      "text/plain": [
       "                        MSE\n",
       "100.000000    158220.630403\n",
       "10.000000     159407.810427\n",
       "0.010000      159684.432715\n",
       "1000.000000   159703.537813\n",
       "2154.434690   159767.167436\n",
       "0.464159      159980.893090\n",
       "0.021544      160251.578633\n",
       "2.154435      160633.222369\n",
       "0.046416      160679.179702\n",
       "46.415888     160988.948608\n",
       "464.158883    161162.164301\n",
       "0.100000      161598.811619\n",
       "0.215443      161929.862245\n",
       "1.000000      162004.151841\n",
       "21.544347     162091.459693\n",
       "215.443469    164423.664083\n",
       "4.641589      165763.069917\n",
       "4641.588834   167781.150457\n",
       "10000.000000  191237.998506"
      ]
     },
     "execution_count": 11,
     "metadata": {},
     "output_type": "execute_result"
    }
   ],
   "source": [
    "results = pd.DataFrame(mse_results.mean(axis = 0), lam_vals, columns = ['MSE'])\n",
    "results.sort_values(by = 'MSE', axis = 0, ascending = True)"
   ]
  },
  {
   "cell_type": "markdown",
   "id": "hungry-repair",
   "metadata": {},
   "source": [
    "The optimal value is $\\lambda = 100$. We will proceed to fit and test the ridge regression with this value as the best choice for hyperparameter."
   ]
  },
  {
   "cell_type": "code",
   "execution_count": 12,
   "id": "associate-linux",
   "metadata": {},
   "outputs": [
    {
     "data": {
      "text/plain": [
       "150786.02057560213"
      ]
     },
     "execution_count": 12,
     "metadata": {},
     "output_type": "execute_result"
    }
   ],
   "source": [
    "optimal_ridge = Ridge(alpha = 100).fit(X_train, y_train)\n",
    "optimal_pred = optimal_ridge.predict(X_test)\n",
    "calc_mse(optimal_pred, y_test.to_numpy())"
   ]
  }
 ],
 "metadata": {
  "kernelspec": {
   "display_name": "Python [conda env:DATA558] *",
   "language": "python",
   "name": "conda-env-DATA558-py"
  },
  "language_info": {
   "codemirror_mode": {
    "name": "ipython",
    "version": 3
   },
   "file_extension": ".py",
   "mimetype": "text/x-python",
   "name": "python",
   "nbconvert_exporter": "python",
   "pygments_lexer": "ipython3",
   "version": "3.7.10"
  }
 },
 "nbformat": 4,
 "nbformat_minor": 5
}
