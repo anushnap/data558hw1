{
 "cells": [
  {
   "cell_type": "markdown",
   "id": "experimental-check",
   "metadata": {},
   "source": [
    "### DATA 558 - Homework 1 Coding Solutions\n",
    "#### Anushna Prakash\n",
    "#### April 8th, 2021"
   ]
  },
  {
   "cell_type": "code",
   "execution_count": 1,
   "id": "stuffed-election",
   "metadata": {},
   "outputs": [],
   "source": [
    "import pandas as pd\n",
    "import numpy as np"
   ]
  },
  {
   "cell_type": "code",
   "execution_count": 3,
   "id": "expressed-cleaner",
   "metadata": {},
   "outputs": [
    {
     "data": {
      "text/plain": [
       "Index(['species', 'island', 'bill_length_mm', 'bill_depth_mm',\n",
       "       'flipper_length_mm', 'body_mass_g', 'sex'],\n",
       "      dtype='object')"
      ]
     },
     "execution_count": 3,
     "metadata": {},
     "output_type": "execute_result"
    }
   ],
   "source": [
    "file = 'https://raw.githubusercontent.com/mwaskom/seaborn-data/master/penguins.csv'\n",
    "penguins = pd.read_csv(file, sep = ',', header = 0)\n",
    "penguins.columns"
   ]
  },
  {
   "cell_type": "markdown",
   "id": "current-irish",
   "metadata": {},
   "source": [
    "Reduce dataset to rows where desired feature columns are not null"
   ]
  },
  {
   "cell_type": "code",
   "execution_count": 20,
   "id": "stable-missouri",
   "metadata": {},
   "outputs": [
    {
     "name": "stdout",
     "output_type": "stream",
     "text": [
      "bill_length_mm       2\n",
      "bill_depth_mm        2\n",
      "flipper_length_mm    2\n",
      "body_mass_g          2\n",
      "dtype: int64\n"
     ]
    },
    {
     "data": {
      "text/plain": [
       "(342, 4)"
      ]
     },
     "execution_count": 20,
     "metadata": {},
     "output_type": "execute_result"
    }
   ],
   "source": [
    "# Clean up missing values. Removes 2 rows of data\n",
    "features = ['bill_length_mm', 'bill_depth_mm', 'flipper_length_mm', 'body_mass_g']\n",
    "print(penguins[features].isnull().sum(axis = 0))\n",
    "penguins_clean = penguins[features].dropna()\n",
    "penguins_clean.shape"
   ]
  },
  {
   "cell_type": "code",
   "execution_count": 21,
   "id": "polish-springer",
   "metadata": {},
   "outputs": [
    {
     "name": "stdout",
     "output_type": "stream",
     "text": [
      "(342, 3)\n",
      "(342,)\n"
     ]
    }
   ],
   "source": [
    "X = penguins_clean[['bill_length_mm', 'bill_depth_mm', 'flipper_length_mm']]\n",
    "y = penguins_clean['body_mass_g']\n",
    "print(X.shape)\n",
    "print(y.shape)"
   ]
  },
  {
   "cell_type": "code",
   "execution_count": 22,
   "id": "three-carry",
   "metadata": {},
   "outputs": [],
   "source": [
    "from sklearn.model_selection import train_test_split\n",
    "X_train, X_test, y_train, y_test = train_test_split(X, y, test_size = 0.2, random_state = 10)"
   ]
  },
  {
   "cell_type": "code",
   "execution_count": 23,
   "id": "normal-agreement",
   "metadata": {},
   "outputs": [
    {
     "data": {
      "text/plain": [
       "Ridge(alpha=1)"
      ]
     },
     "execution_count": 23,
     "metadata": {},
     "output_type": "execute_result"
    }
   ],
   "source": [
    "from sklearn.linear_model import Ridge\n",
    "penguin_ridge = Ridge(alpha = 1)\n",
    "penguin_ridge.fit(X_train, y_train)"
   ]
  },
  {
   "cell_type": "markdown",
   "id": "enormous-compilation",
   "metadata": {},
   "source": [
    "Compute Mean Squared Error for ridge regression predictions.\n",
    "\\begin{equation}\n",
    "MSE(\\hat{Y}, Y) = \\frac{1}{n} {||\\hat{Y} - Y||}^{2}_{2}\n",
    "\\end{equation}"
   ]
  },
  {
   "cell_type": "code",
   "execution_count": 51,
   "id": "indonesian-pharmacology",
   "metadata": {},
   "outputs": [],
   "source": [
    "def calc_mse(y_hat, y):\n",
    "    n = len(y_hat)\n",
    "    errors = np.square(y_hat - y).sum()\n",
    "    return(errors / n)"
   ]
  },
  {
   "cell_type": "code",
   "execution_count": 52,
   "id": "welsh-cheat",
   "metadata": {},
   "outputs": [
    {
     "data": {
      "text/plain": [
       "154610.82032308922"
      ]
     },
     "execution_count": 52,
     "metadata": {},
     "output_type": "execute_result"
    }
   ],
   "source": [
    "y_hat = penguin_ridge.predict(X_train)\n",
    "calc_mse(y_hat, y_train.to_numpy())"
   ]
  }
 ],
 "metadata": {
  "kernelspec": {
   "display_name": "Python [conda env:DATA558] *",
   "language": "python",
   "name": "conda-env-DATA558-py"
  },
  "language_info": {
   "codemirror_mode": {
    "name": "ipython",
    "version": 3
   },
   "file_extension": ".py",
   "mimetype": "text/x-python",
   "name": "python",
   "nbconvert_exporter": "python",
   "pygments_lexer": "ipython3",
   "version": "3.7.10"
  }
 },
 "nbformat": 4,
 "nbformat_minor": 5
}
